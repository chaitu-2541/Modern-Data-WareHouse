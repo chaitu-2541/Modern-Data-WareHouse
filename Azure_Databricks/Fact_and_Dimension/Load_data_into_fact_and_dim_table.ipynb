{
 "cells": [
  {
   "cell_type": "code",
   "execution_count": 0,
   "metadata": {
    "application/vnd.databricks.v1+cell": {
     "cellMetadata": {
      "byteLimit": 2048000,
      "rowLimit": 10000
     },
     "inputWidgets": {},
     "nuid": "9ea6cf34-7b83-4b38-aefe-1567ec4a038a",
     "showTitle": false,
     "tableResultSettingsMap": {},
     "title": ""
    }
   },
   "outputs": [
    {
     "output_type": "display_data",
     "data": {
      "text/html": [
       "<style scoped>\n",
       "  .table-result-container {\n",
       "    max-height: 300px;\n",
       "    overflow: auto;\n",
       "  }\n",
       "  table, th, td {\n",
       "    border: 1px solid black;\n",
       "    border-collapse: collapse;\n",
       "  }\n",
       "  th, td {\n",
       "    padding: 5px;\n",
       "  }\n",
       "  th {\n",
       "    text-align: left;\n",
       "  }\n",
       "</style><div class='table-result-container'><table class='table-result'><thead style='background-color: white'><tr><th>num_affected_rows</th><th>num_updated_rows</th><th>num_deleted_rows</th><th>num_inserted_rows</th></tr></thead><tbody><tr><td>18484</td><td>0</td><td>0</td><td>18484</td></tr></tbody></table></div>"
      ]
     },
     "metadata": {
      "application/vnd.databricks.v1+output": {
       "addedWidgets": {},
       "aggData": [],
       "aggError": "",
       "aggOverflow": false,
       "aggSchema": [],
       "aggSeriesLimitReached": false,
       "aggType": "",
       "arguments": {},
       "columnCustomDisplayInfos": {},
       "data": [
        [
         18484,
         0,
         0,
         18484
        ]
       ],
       "datasetInfos": [],
       "dbfsResultPath": null,
       "isJsonSchema": true,
       "metadata": {
        "isDbfsCommandResult": false
       },
       "overflow": false,
       "plotOptions": {
        "customPlotOptions": {},
        "displayType": "table",
        "pivotAggregation": null,
        "pivotColumns": null,
        "xColumns": null,
        "yColumns": null
       },
       "removedWidgets": [],
       "schema": [
        {
         "metadata": "{}",
         "name": "num_affected_rows",
         "type": "\"long\""
        },
        {
         "metadata": "{}",
         "name": "num_updated_rows",
         "type": "\"long\""
        },
        {
         "metadata": "{}",
         "name": "num_deleted_rows",
         "type": "\"long\""
        },
        {
         "metadata": "{}",
         "name": "num_inserted_rows",
         "type": "\"long\""
        }
       ],
       "type": "table"
      }
     },
     "output_type": "display_data"
    }
   ],
   "source": [
    "--- Load Data in Dimensions Customer Table\n",
    "MERGE INTO salesdwh_catalog.gold.dim_customers AS tgt\n",
    "USING (\n",
    "    SELECT\n",
    "        ROW_NUMBER() OVER (ORDER BY ci.cst_id) AS customer_key, -- Surrogate key\n",
    "        ci.cst_id        AS customer_id,\n",
    "        ci.cst_key       AS customer_number,\n",
    "        ci.cst_firstname AS first_name,\n",
    "        ci.cst_lastname  AS last_name,\n",
    "        la.cntry         AS country,\n",
    "        ci.cst_marital_status AS marital_status,\n",
    "        CASE \n",
    "            WHEN ci.cst_gndr != 'n/a' THEN ci.cst_gndr\n",
    "            ELSE COALESCE(ca.gen, 'n/a')\n",
    "        END              AS gender,\n",
    "        ca.bdate         AS birthdate,\n",
    "        ci.create_date AS create_date\n",
    "    FROM salesdwh_catalog.silver.crm_cust_info ci\n",
    "    LEFT JOIN salesdwh_catalog.silver.erp_cust_az12 ca\n",
    "        ON ci.cst_key = ca.cid\n",
    "    LEFT JOIN salesdwh_catalog.silver.erp_loc_a101 la\n",
    "        ON ci.cst_key = la.cid\n",
    ") AS src\n",
    "ON tgt.customer_id = src.customer_id   -- condition to match\n",
    "\n",
    "WHEN MATCHED THEN\n",
    "  UPDATE SET\n",
    "    tgt.customer_number  = src.customer_number,\n",
    "    tgt.first_name       = src.first_name,\n",
    "    tgt.last_name        = src.last_name,\n",
    "    tgt.country          = src.country,\n",
    "    tgt.marital_status   = src.marital_status,\n",
    "    tgt.gender           = src.gender,\n",
    "    tgt.birthdate        = src.birthdate,\n",
    "    tgt.create_date      = src.create_date\n",
    "\n",
    "WHEN NOT MATCHED THEN\n",
    "  INSERT (\n",
    "    customer_key,\n",
    "    customer_id,\n",
    "    customer_number,\n",
    "    first_name,\n",
    "    last_name,\n",
    "    country,\n",
    "    marital_status,\n",
    "    gender,\n",
    "    birthdate,\n",
    "    create_date\n",
    "  )\n",
    "  VALUES (\n",
    "    src.customer_key,\n",
    "    src.customer_id,\n",
    "    src.customer_number,\n",
    "    src.first_name,\n",
    "    src.last_name,\n",
    "    src.country,\n",
    "    src.marital_status,\n",
    "    src.gender,\n",
    "    src.birthdate,\n",
    "    src.create_date\n",
    "  );\n"
   ]
  },
  {
   "cell_type": "code",
   "execution_count": 0,
   "metadata": {
    "application/vnd.databricks.v1+cell": {
     "cellMetadata": {
      "byteLimit": 2048000,
      "rowLimit": 10000
     },
     "inputWidgets": {},
     "nuid": "8d7c9410-262c-4675-bac4-911c4871f2c1",
     "showTitle": false,
     "tableResultSettingsMap": {},
     "title": ""
    }
   },
   "outputs": [
    {
     "output_type": "display_data",
     "data": {
      "text/html": [
       "<style scoped>\n",
       "  .table-result-container {\n",
       "    max-height: 300px;\n",
       "    overflow: auto;\n",
       "  }\n",
       "  table, th, td {\n",
       "    border: 1px solid black;\n",
       "    border-collapse: collapse;\n",
       "  }\n",
       "  th, td {\n",
       "    padding: 5px;\n",
       "  }\n",
       "  th {\n",
       "    text-align: left;\n",
       "  }\n",
       "</style><div class='table-result-container'><table class='table-result'><thead style='background-color: white'><tr><th>num_affected_rows</th><th>num_updated_rows</th><th>num_deleted_rows</th><th>num_inserted_rows</th></tr></thead><tbody><tr><td>295</td><td>0</td><td>0</td><td>295</td></tr></tbody></table></div>"
      ]
     },
     "metadata": {
      "application/vnd.databricks.v1+output": {
       "addedWidgets": {},
       "aggData": [],
       "aggError": "",
       "aggOverflow": false,
       "aggSchema": [],
       "aggSeriesLimitReached": false,
       "aggType": "",
       "arguments": {},
       "columnCustomDisplayInfos": {},
       "data": [
        [
         295,
         0,
         0,
         295
        ]
       ],
       "datasetInfos": [],
       "dbfsResultPath": null,
       "isJsonSchema": true,
       "metadata": {
        "isDbfsCommandResult": false
       },
       "overflow": false,
       "plotOptions": {
        "customPlotOptions": {},
        "displayType": "table",
        "pivotAggregation": null,
        "pivotColumns": null,
        "xColumns": null,
        "yColumns": null
       },
       "removedWidgets": [],
       "schema": [
        {
         "metadata": "{}",
         "name": "num_affected_rows",
         "type": "\"long\""
        },
        {
         "metadata": "{}",
         "name": "num_updated_rows",
         "type": "\"long\""
        },
        {
         "metadata": "{}",
         "name": "num_deleted_rows",
         "type": "\"long\""
        },
        {
         "metadata": "{}",
         "name": "num_inserted_rows",
         "type": "\"long\""
        }
       ],
       "type": "table"
      }
     },
     "output_type": "display_data"
    }
   ],
   "source": [
    "--- Load Data In Dimensions Products Table\n",
    "MERGE INTO salesdwh_catalog.gold.dim_products AS tgt\n",
    "USING (\n",
    "    SELECT\n",
    "        pn.prd_id       AS product_id,\n",
    "        pn.prd_key      AS product_number,\n",
    "        pn.prd_nm       AS product_name,\n",
    "        pn.cat_id       AS category_id,\n",
    "        pc.cat          AS category,\n",
    "        pc.subcat       AS subcategory,\n",
    "        pc.maintenance  AS maintenance,\n",
    "        pn.prd_cost     AS cost,\n",
    "        pn.prd_line     AS product_line,\n",
    "        pn.prd_start_dt AS start_date\n",
    "    FROM salesdwh_catalog.silver.crm_prd_info pn\n",
    "    LEFT JOIN salesdwh_catalog.silver.erp_px_cat_g1v2 pc\n",
    "        ON pn.cat_id = pc.id\n",
    "    WHERE pn.prd_end_dt IS NULL\n",
    ") AS src\n",
    "ON tgt.product_id = src.product_id\n",
    "\n",
    "WHEN MATCHED THEN\n",
    "  UPDATE SET\n",
    "    tgt.product_number = src.product_number,\n",
    "    tgt.product_name   = src.product_name,\n",
    "    tgt.category_id    = src.category_id,\n",
    "    tgt.category       = src.category,\n",
    "    tgt.subcategory    = src.subcategory,\n",
    "    tgt.maintenance    = src.maintenance,\n",
    "    tgt.cost           = src.cost,\n",
    "    tgt.product_line   = src.product_line,\n",
    "    tgt.start_date     = src.start_date\n",
    "\n",
    "WHEN NOT MATCHED THEN\n",
    "  INSERT (\n",
    "    product_id,\n",
    "    product_number,\n",
    "    product_name,\n",
    "    category_id,\n",
    "    category,\n",
    "    subcategory,\n",
    "    maintenance,\n",
    "    cost,\n",
    "    product_line,\n",
    "    start_date\n",
    "  )\n",
    "  VALUES (\n",
    "    src.product_id,\n",
    "    src.product_number,\n",
    "    src.product_name,\n",
    "    src.category_id,\n",
    "    src.category,\n",
    "    src.subcategory,\n",
    "    src.maintenance,\n",
    "    src.cost,\n",
    "    src.product_line,\n",
    "    src.start_date\n",
    "  );\n"
   ]
  },
  {
   "cell_type": "code",
   "execution_count": 0,
   "metadata": {
    "application/vnd.databricks.v1+cell": {
     "cellMetadata": {
      "byteLimit": 2048000,
      "rowLimit": 10000
     },
     "inputWidgets": {},
     "nuid": "8346858b-18a2-4ced-aee9-a627c6d5a7a7",
     "showTitle": false,
     "tableResultSettingsMap": {},
     "title": ""
    }
   },
   "outputs": [
    {
     "output_type": "display_data",
     "data": {
      "text/html": [
       "<style scoped>\n",
       "  .table-result-container {\n",
       "    max-height: 300px;\n",
       "    overflow: auto;\n",
       "  }\n",
       "  table, th, td {\n",
       "    border: 1px solid black;\n",
       "    border-collapse: collapse;\n",
       "  }\n",
       "  th, td {\n",
       "    padding: 5px;\n",
       "  }\n",
       "  th {\n",
       "    text-align: left;\n",
       "  }\n",
       "</style><div class='table-result-container'><table class='table-result'><thead style='background-color: white'><tr><th>num_affected_rows</th><th>num_updated_rows</th><th>num_deleted_rows</th><th>num_inserted_rows</th></tr></thead><tbody><tr><td>60398</td><td>0</td><td>0</td><td>60398</td></tr></tbody></table></div>"
      ]
     },
     "metadata": {
      "application/vnd.databricks.v1+output": {
       "addedWidgets": {},
       "aggData": [],
       "aggError": "",
       "aggOverflow": false,
       "aggSchema": [],
       "aggSeriesLimitReached": false,
       "aggType": "",
       "arguments": {},
       "columnCustomDisplayInfos": {},
       "data": [
        [
         60398,
         0,
         0,
         60398
        ]
       ],
       "datasetInfos": [],
       "dbfsResultPath": null,
       "isJsonSchema": true,
       "metadata": {
        "isDbfsCommandResult": false
       },
       "overflow": false,
       "plotOptions": {
        "customPlotOptions": {},
        "displayType": "table",
        "pivotAggregation": null,
        "pivotColumns": null,
        "xColumns": null,
        "yColumns": null
       },
       "removedWidgets": [],
       "schema": [
        {
         "metadata": "{}",
         "name": "num_affected_rows",
         "type": "\"long\""
        },
        {
         "metadata": "{}",
         "name": "num_updated_rows",
         "type": "\"long\""
        },
        {
         "metadata": "{}",
         "name": "num_deleted_rows",
         "type": "\"long\""
        },
        {
         "metadata": "{}",
         "name": "num_inserted_rows",
         "type": "\"long\""
        }
       ],
       "type": "table"
      }
     },
     "output_type": "display_data"
    }
   ],
   "source": [
    "----- Load Data In Fact Sales Table\n",
    "MERGE INTO salesdwh_catalog.gold.fact_sales AS tgt\n",
    "USING (\n",
    "    SELECT\n",
    "        sd.sls_ord_num  AS order_number,\n",
    "        pr.product_key  AS product_key,\n",
    "        cu.customer_key AS customer_key,\n",
    "        sd.sls_order_dt AS order_date,\n",
    "        sd.sls_ship_dt  AS shipping_date,\n",
    "        sd.sls_due_dt   AS due_date,\n",
    "        sd.sls_sales    AS sales_amount,\n",
    "        sd.sls_quantity AS quantity,\n",
    "        sd.sls_price    AS price\n",
    "    FROM salesdwh_catalog.silver.crm_sales_details sd\n",
    "    LEFT JOIN salesdwh_catalog.gold.dim_products pr\n",
    "        ON sd.sls_prd_key = pr.product_number\n",
    "    LEFT JOIN salesdwh_catalog.gold.dim_customers cu\n",
    "        ON sd.sls_cust_id = cu.customer_id\n",
    ") AS src\n",
    "ON tgt.order_number = src.order_number\n",
    "   AND tgt.product_key = src.product_key\n",
    "   AND tgt.customer_key = src.customer_key\n",
    "\n",
    "WHEN MATCHED THEN\n",
    "  UPDATE SET\n",
    "    tgt.order_date    = src.order_date,\n",
    "    tgt.shipping_date = src.shipping_date,\n",
    "    tgt.due_date      = src.due_date,\n",
    "    tgt.sales_amount  = src.sales_amount,\n",
    "    tgt.quantity      = src.quantity,\n",
    "    tgt.price         = src.price\n",
    "\n",
    "WHEN NOT MATCHED THEN\n",
    "  INSERT (\n",
    "    order_number,\n",
    "    product_key,\n",
    "    customer_key,\n",
    "    order_date,\n",
    "    shipping_date,\n",
    "    due_date,\n",
    "    sales_amount,\n",
    "    quantity,\n",
    "    price\n",
    "  )\n",
    "  VALUES (\n",
    "    src.order_number,\n",
    "    src.product_key,\n",
    "    src.customer_key,\n",
    "    src.order_date,\n",
    "    src.shipping_date,\n",
    "    src.due_date,\n",
    "    src.sales_amount,\n",
    "    src.quantity,\n",
    "    src.price\n",
    "  );\n"
   ]
  }
 ],
 "metadata": {
  "application/vnd.databricks.v1+notebook": {
   "computePreferences": null,
   "dashboards": [],
   "environmentMetadata": {
    "base_environment": "",
    "environment_version": "3"
   },
   "inputWidgetPreferences": null,
   "language": "sql",
   "notebookMetadata": {
    "pythonIndentUnit": 4
   },
   "notebookName": "Load_data_into_fact_and_dim_table",
   "widgets": {}
  },
  "language_info": {
   "name": "sql"
  }
 },
 "nbformat": 4,
 "nbformat_minor": 0
}
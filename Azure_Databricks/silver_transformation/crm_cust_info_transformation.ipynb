{
 "cells": [
  {
   "cell_type": "code",
   "execution_count": 0,
   "metadata": {
    "application/vnd.databricks.v1+cell": {
     "cellMetadata": {
      "byteLimit": 2048000,
      "rowLimit": 10000
     },
     "inputWidgets": {},
     "nuid": "72f6a32b-c823-400d-a182-ab8fc886ab84",
     "showTitle": false,
     "tableResultSettingsMap": {},
     "title": ""
    }
   },
   "outputs": [],
   "source": [
    "%run \"/sales_DWH/Includes/Common_function\""
   ]
  },
  {
   "cell_type": "code",
   "execution_count": 0,
   "metadata": {
    "application/vnd.databricks.v1+cell": {
     "cellMetadata": {
      "byteLimit": 2048000,
      "rowLimit": 10000
     },
     "inputWidgets": {},
     "nuid": "20f2da2b-66c4-41f7-8374-63ffffde5f0e",
     "showTitle": false,
     "tableResultSettingsMap": {},
     "title": ""
    }
   },
   "outputs": [],
   "source": [
    "## Init access and functions\n",
    "from pyspark.sql import functions as F\n",
    "from pyspark.sql.window import Window\n",
    "get_access_data_lake()"
   ]
  },
  {
   "cell_type": "code",
   "execution_count": 0,
   "metadata": {
    "application/vnd.databricks.v1+cell": {
     "cellMetadata": {
      "byteLimit": 2048000,
      "rowLimit": 10000
     },
     "inputWidgets": {},
     "nuid": "e150f1af-026c-4ba9-a0ef-93c64944bb0f",
     "showTitle": false,
     "tableResultSettingsMap": {},
     "title": ""
    }
   },
   "outputs": [],
   "source": [
    "# This class handles the Bronze layer CRM customer data\n",
    "class bronze_crm_cust_info():\n",
    "    def __init__(self):\n",
    "        # Base path of the Bronze data in ADLS\n",
    "\n",
    "        self.base_path = \"abfss://bronze@salesdwh.dfs.core.windows.net/\"\n",
    "    def init_schema(self):\n",
    "        # Define the schema for reading parquet files\n",
    "        # Helps Spark know the data types before loading\n",
    "\n",
    "        schema_str = schema_str = \"\"\" cst_id INT,\n",
    "                                cst_key STRING,\n",
    "                                cst_firstname STRING,\n",
    "                                cst_lastname STRING,\n",
    "                                cst_marital_status STRING,\n",
    "                                cst_gndr STRING,\n",
    "                                create_date STRING,\n",
    "                                year INT,\n",
    "                                month INT \"\"\"\n",
    "        return schema_str\n",
    "\n",
    "\n",
    "    def read_data(self):\n",
    "        # Read data from the specified path in Parquet format\n",
    "        # Using the schema defined above\n",
    "\n",
    "        df=spark.read.format(\"parquet\").option('header','true').schema(self.init_schema()).load(f\"{self.base_path}/crm_cust_info/\")\n",
    "        return df\n",
    "    \n",
    "    def transform_data(self,df):\n",
    "        # Data cleaning and transformations\n",
    "        max_month = df.agg(F.max(\"month\").alias(\"max_month\")).collect()[0][\"max_month\"]\n",
    "        df_filter = df.filter(F.col(\"month\") == max_month)\n",
    "        df_scound=df_filter.dropDuplicates().dropna()\n",
    "        # Keep only the latest record per customer based on create_date\n",
    "        df_clean2=df_scound.where(F.col(\"cst_id\").isNotNull()).withColumn('rank',F.row_number()\\\n",
    "            .over(Window.partitionBy('cst_id').orderBy(F.desc('create_date'))))\\\n",
    "            .filter(F.col('rank')==1).drop('rank')\n",
    "        \n",
    "        # Normalize marital status column from abbreviations to full words\n",
    "        df_clean3=normalize_column_value(df_clean2,'cst_marital_status','S','Single',\"M\",\"Married\")\n",
    "        \n",
    "        # Normalize gender column from abbreviations to full words\n",
    "        df_clean3=normalize_column_value(df_clean3,'cst_gndr','M','Male',\"F\",\"Female\")\n",
    "        return df_clean3\n",
    "    \n",
    "    def write_data(self,df):\n",
    "        # Define merge condition for incremental load\n",
    "        merge_condition = \"tgt.cst_id=src.cst_id AND tgt.cst_key=src.cst_key AND tgt.cst_marital_status=src.cst_marital_status \" \n",
    "        \n",
    "        # Call incremental load function to merge data into Silver table\n",
    "        load=icremental_load(df,catalog_name=\"salesdwh_catalog\",schema_name=\"silver\",table_name=\"crm_cust_info\",merge_condition=merge_condition)\n",
    "        return load\n",
    "    \n",
    "    def run(self):\n",
    "        # Run the full ETL process for Bronze CRM customer data\n",
    "        print(\"Starting  Transformation bronze_crm_cust_info......\")\n",
    "        read_data=self.read_data()                              # Step 1: Read data\n",
    "        transform_data= self.transform_data(read_data)          # Step 2: Clean & transform\n",
    "        write_data=self.write_data(transform_data)              # Step 3: Write to Silver layer\n",
    "        return write_data\n",
    "        print('Done...!!!') \n",
    "\n"
   ]
  },
  {
   "cell_type": "code",
   "execution_count": 0,
   "metadata": {
    "application/vnd.databricks.v1+cell": {
     "cellMetadata": {
      "byteLimit": 2048000,
      "rowLimit": 10000
     },
     "inputWidgets": {},
     "nuid": "8507b468-098e-4f86-ba98-7f2a85e96ada",
     "showTitle": false,
     "tableResultSettingsMap": {},
     "title": ""
    }
   },
   "outputs": [
    {
     "output_type": "stream",
     "name": "stdout",
     "output_type": "stream",
     "text": [
      "Starting  Transformation bronze_crm_cust_info......\n"
     ]
    },
    {
     "output_type": "execute_result",
     "data": {
      "text/plain": [
       "' Merge completed: [The affected rows = 13915]-----[The updated rows = 13915]----[The inserted rows =0] '"
      ]
     },
     "execution_count": 16,
     "metadata": {},
     "output_type": "execute_result"
    }
   ],
   "source": [
    "## Trigger Transformation\n",
    "start=bronze_crm_cust_info()\n",
    "start.run()"
   ]
  }
 ],
 "metadata": {
  "application/vnd.databricks.v1+notebook": {
   "computePreferences": null,
   "dashboards": [],
   "environmentMetadata": {
    "base_environment": "",
    "environment_version": "3"
   },
   "inputWidgetPreferences": null,
   "language": "python",
   "notebookMetadata": {
    "mostRecentlyExecutedCommandWithImplicitDF": {
     "commandId": 6275214095884383,
     "dataframes": [
      "_sqldf"
     ]
    },
    "pythonIndentUnit": 4
   },
   "notebookName": "crm_cust_info_transformation",
   "widgets": {}
  },
  "language_info": {
   "name": "python"
  }
 },
 "nbformat": 4,
 "nbformat_minor": 0
}
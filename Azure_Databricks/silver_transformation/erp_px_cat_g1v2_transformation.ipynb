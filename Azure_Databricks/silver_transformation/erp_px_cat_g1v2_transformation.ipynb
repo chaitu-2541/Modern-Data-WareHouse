{
 "cells": [
  {
   "cell_type": "code",
   "execution_count": 0,
   "metadata": {
    "application/vnd.databricks.v1+cell": {
     "cellMetadata": {
      "byteLimit": 2048000,
      "rowLimit": 10000
     },
     "inputWidgets": {},
     "nuid": "72f6a32b-c823-400d-a182-ab8fc886ab84",
     "showTitle": false,
     "tableResultSettingsMap": {},
     "title": ""
    }
   },
   "outputs": [],
   "source": [
    "%run \"/sales_DWH/Includes/Common_function\""
   ]
  },
  {
   "cell_type": "code",
   "execution_count": 0,
   "metadata": {
    "application/vnd.databricks.v1+cell": {
     "cellMetadata": {
      "byteLimit": 2048000,
      "rowLimit": 10000
     },
     "inputWidgets": {},
     "nuid": "20f2da2b-66c4-41f7-8374-63ffffde5f0e",
     "showTitle": false,
     "tableResultSettingsMap": {},
     "title": ""
    }
   },
   "outputs": [],
   "source": [
    "## Init access and functions\n",
    "from pyspark.sql import functions as F\n",
    "from pyspark.sql.window import Window\n",
    "get_access_data_lake()"
   ]
  },
  {
   "cell_type": "code",
   "execution_count": 0,
   "metadata": {
    "application/vnd.databricks.v1+cell": {
     "cellMetadata": {
      "byteLimit": 2048000,
      "rowLimit": 10000
     },
     "inputWidgets": {},
     "nuid": "e150f1af-026c-4ba9-a0ef-93c64944bb0f",
     "showTitle": false,
     "tableResultSettingsMap": {},
     "title": ""
    }
   },
   "outputs": [],
   "source": [
    "# This class ETL process the silver layer erp_px_cat_g1v2\n",
    "class silver_erp_px_cat_g1v2():\n",
    "    def __init__(self):\n",
    "        # Base path of the Bronze data in ADLS\n",
    "\n",
    "        self.base_path = \"abfss://bronze@salesdwh.dfs.core.windows.net/\"\n",
    "\n",
    "    def read_data(self):\n",
    "        # Read data from the specified path in Parquet format\n",
    "        # Using the schema defined above\n",
    "\n",
    "        df=spark.read.format(\"parquet\").option(\"inferSchema\", \"true\").option(\"samplingRatio\", 0.01).option('header','true')\\\n",
    "            .load(f\"{self.base_path}/erp_px_cat_g1v2/\")\n",
    "        return df\n",
    "    \n",
    "    def filter_data(self,df):\n",
    "        max_month = df.agg(F.max(\"month\").alias(\"max_month\")).collect()[0][\"max_month\"]\n",
    "        df_filter = df.filter(F.col(\"month\") == max_month)\n",
    "        df_scound=df_filter.dropDuplicates().dropna()\n",
    "        return df_scound\n",
    "    def write_data(self,df):\n",
    "        # Define merge condition for incremental load\n",
    "        merge_condition = \"tgt.id=src.id \" \n",
    "        \n",
    "        # Call incremental load function to merge data into Silver table\n",
    "        load=icremental_load(df,catalog_name=\"salesdwh_catalog\",schema_name=\"silver\",table_name=\"erp_px_cat_g1v2\",merge_condition=merge_condition)\n",
    "        return load\n",
    "    \n",
    "    def run(self):\n",
    "        # Run the full ETL process for silver erp_px_cat_g1v2s data\n",
    "        print(\"Starting  Transformation silver_erp_px_cat_g1v2......\")\n",
    "        read_data=self.read_data() \n",
    "        data_filter=self.filter_data(read_data)                             # Step 1: Read data\n",
    "        write_data=self.write_data(data_filter)              # Step 3: Write to Silver layer\n",
    "        print('Done...!!!') \n",
    "        return write_data\n",
    "\n"
   ]
  },
  {
   "cell_type": "code",
   "execution_count": 0,
   "metadata": {
    "application/vnd.databricks.v1+cell": {
     "cellMetadata": {
      "byteLimit": 2048000,
      "rowLimit": 10000
     },
     "inputWidgets": {},
     "nuid": "8507b468-098e-4f86-ba98-7f2a85e96ada",
     "showTitle": false,
     "tableResultSettingsMap": {},
     "title": ""
    }
   },
   "outputs": [
    {
     "output_type": "stream",
     "name": "stdout",
     "output_type": "stream",
     "text": [
      "Starting  Transformation silver_erp_px_cat_g1v2......\nDone...!!!\n"
     ]
    },
    {
     "output_type": "execute_result",
     "data": {
      "text/plain": [
       "' Merge completed: [The affected rows = 37]-----[The updated rows = 37]----[The inserted rows =0] '"
      ]
     },
     "execution_count": 25,
     "metadata": {},
     "output_type": "execute_result"
    }
   ],
   "source": [
    "## Trigger Transformation\n",
    "start=silver_erp_px_cat_g1v2()\n",
    "start.run()"
   ]
  },
  {
   "cell_type": "code",
   "execution_count": 0,
   "metadata": {
    "application/vnd.databricks.v1+cell": {
     "cellMetadata": {
      "byteLimit": 2048000,
      "implicitDf": true,
      "rowLimit": 10000
     },
     "inputWidgets": {},
     "nuid": "ef794326-8e15-49bb-bc48-c4b2cb0ae1d6",
     "showTitle": false,
     "tableResultSettingsMap": {},
     "title": ""
    }
   },
   "outputs": [
    {
     "output_type": "display_data",
     "data": {
      "text/plain": [
       ""
      ]
     },
     "metadata": {
      "application/vnd.databricks.v1+output": {
       "addedWidgets": {},
       "arguments": {},
       "datasetInfos": [],
       "jupyterProps": null,
       "metadata": {
        "errorSummary": "Command skipped"
       },
       "removedWidgets": [],
       "sqlProps": null,
       "stackFrames": [],
       "type": "baseError"
      }
     },
     "output_type": "display_data"
    }
   ],
   "source": [
    "%sql\n",
    "select * from salesdwh_catalog.silver.erp_px_cat_g1v2"
   ]
  }
 ],
 "metadata": {
  "application/vnd.databricks.v1+notebook": {
   "computePreferences": null,
   "dashboards": [],
   "environmentMetadata": {
    "base_environment": "",
    "environment_version": "3"
   },
   "inputWidgetPreferences": null,
   "language": "python",
   "notebookMetadata": {
    "mostRecentlyExecutedCommandWithImplicitDF": {
     "commandId": 7955372968536217,
     "dataframes": [
      "_sqldf"
     ]
    },
    "pythonIndentUnit": 4
   },
   "notebookName": "erp_px_cat_g1v2_transformation",
   "widgets": {}
  },
  "language_info": {
   "name": "python"
  }
 },
 "nbformat": 4,
 "nbformat_minor": 0
}
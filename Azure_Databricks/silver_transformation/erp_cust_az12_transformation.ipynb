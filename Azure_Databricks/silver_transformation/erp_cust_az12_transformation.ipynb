{
 "cells": [
  {
   "cell_type": "code",
   "execution_count": 0,
   "metadata": {
    "application/vnd.databricks.v1+cell": {
     "cellMetadata": {
      "byteLimit": 2048000,
      "rowLimit": 10000
     },
     "inputWidgets": {},
     "nuid": "72f6a32b-c823-400d-a182-ab8fc886ab84",
     "showTitle": false,
     "tableResultSettingsMap": {},
     "title": ""
    }
   },
   "outputs": [],
   "source": [
    "%run \"/sales_DWH/Includes/Common_function\""
   ]
  },
  {
   "cell_type": "code",
   "execution_count": 0,
   "metadata": {
    "application/vnd.databricks.v1+cell": {
     "cellMetadata": {
      "byteLimit": 2048000,
      "rowLimit": 10000
     },
     "inputWidgets": {},
     "nuid": "20f2da2b-66c4-41f7-8374-63ffffde5f0e",
     "showTitle": false,
     "tableResultSettingsMap": {},
     "title": ""
    }
   },
   "outputs": [],
   "source": [
    "## Init access and functions\n",
    "from pyspark.sql import functions as F\n",
    "from pyspark.sql.window import Window\n",
    "get_access_data_lake()"
   ]
  },
  {
   "cell_type": "code",
   "execution_count": 0,
   "metadata": {
    "application/vnd.databricks.v1+cell": {
     "cellMetadata": {
      "byteLimit": 2048000,
      "rowLimit": 10000
     },
     "inputWidgets": {},
     "nuid": "e150f1af-026c-4ba9-a0ef-93c64944bb0f",
     "showTitle": false,
     "tableResultSettingsMap": {},
     "title": ""
    }
   },
   "outputs": [],
   "source": [
    "# This class ETL process the silver layer erp_cust_az12\n",
    "class silver_erp_cust_az12():\n",
    "    def __init__(self):\n",
    "        # Base path of the Bronze data in ADLS\n",
    "\n",
    "        self.base_path = \"abfss://bronze@salesdwh.dfs.core.windows.net/\"\n",
    "\n",
    "    def read_data(self):\n",
    "        # Read data from the specified path in Parquet format\n",
    "        # Using the schema defined above\n",
    "\n",
    "        df=spark.read.format(\"parquet\").option(\"inferSchema\", \"true\").option(\"samplingRatio\", 0.01).option('header','true')\\\n",
    "            .load(f\"{self.base_path}/erp_cust_az12/\")\n",
    "        return df\n",
    "    \n",
    "    def transform_data(self,df):\n",
    "        # Data cleaning and transformations\n",
    "        max_month = df.agg(F.max(\"month\").alias(\"max_month\")).collect()[0][\"max_month\"]\n",
    "        df_filter = df.filter(F.col(\"month\") == max_month)\n",
    "        df_scound=df_filter.dropDuplicates().dropna()\n",
    "        df_clean2= df_scound.withColumn('cid',F.when(F.col('cid').like('NAS%'),F.substring(F.col('cid'),4,F.length(F.col('cid')))).otherwise(F.col('cid')))\\\n",
    "        .withColumn(\"bdate\",F.when(F.col(\"bdate\") > F.current_date(), None).otherwise(F.col(\"bdate\")))\\\n",
    "        .withColumn(\"gen\",F.when(F.upper(F.trim(F.col(\"gen\"))).isin(\"F\", \"FEMALE\"), \"Female\")\\\n",
    "        .when(F.upper(F.trim(F.col(\"gen\"))).isin(\"M\", \"MALE\"), \"Male\").otherwise(\"n/a\"))\n",
    "        return df_clean2\n",
    "    \n",
    "    def write_data(self,df):\n",
    "        # Define merge condition for incremental load\n",
    "        merge_condition = \"tgt.cid=src.cid \" \n",
    "        \n",
    "        # Call incremental load function to merge data into Silver table\n",
    "        load=icremental_load(df,catalog_name=\"salesdwh_catalog\",schema_name=\"silver\",table_name=\"erp_cust_az12\",merge_condition=merge_condition)\n",
    "        return load\n",
    "    \n",
    "    def run(self):\n",
    "        # Run the full ETL process for silver crm_sales_details data\n",
    "        print(\"Starting  Transformation silver_erp_cust_az12......\")\n",
    "        read_data=self.read_data()                              # Step 1: Read data\n",
    "        transform_data= self.transform_data(read_data)          # Step 2: Clean & transform\n",
    "        write_data=self.write_data(transform_data)              # Step 3: Write to Silver layer\n",
    "        return write_data\n",
    "        print('Done...!!!') \n",
    "\n"
   ]
  },
  {
   "cell_type": "code",
   "execution_count": 0,
   "metadata": {
    "application/vnd.databricks.v1+cell": {
     "cellMetadata": {
      "byteLimit": 2048000,
      "rowLimit": 10000
     },
     "inputWidgets": {},
     "nuid": "8507b468-098e-4f86-ba98-7f2a85e96ada",
     "showTitle": false,
     "tableResultSettingsMap": {},
     "title": ""
    }
   },
   "outputs": [
    {
     "output_type": "stream",
     "name": "stdout",
     "output_type": "stream",
     "text": [
      "Starting  Transformation silver_erp_cust_az12......\n"
     ]
    },
    {
     "output_type": "execute_result",
     "data": {
      "text/plain": [
       "' Merge completed: [The affected rows = 17012]-----[The updated rows = 17012]----[The inserted rows =0] '"
      ]
     },
     "execution_count": 8,
     "metadata": {},
     "output_type": "execute_result"
    }
   ],
   "source": [
    "## Trigger Transformation\n",
    "start=silver_erp_cust_az12()\n",
    "start.run()"
   ]
  }
 ],
 "metadata": {
  "application/vnd.databricks.v1+notebook": {
   "computePreferences": null,
   "dashboards": [],
   "environmentMetadata": {
    "base_environment": "",
    "environment_version": "3"
   },
   "inputWidgetPreferences": null,
   "language": "python",
   "notebookMetadata": {
    "mostRecentlyExecutedCommandWithImplicitDF": {
     "commandId": 1325176880623876,
     "dataframes": [
      "_sqldf"
     ]
    },
    "pythonIndentUnit": 4
   },
   "notebookName": "erp_cust_az12_transformation",
   "widgets": {}
  },
  "language_info": {
   "name": "python"
  }
 },
 "nbformat": 4,
 "nbformat_minor": 0
}